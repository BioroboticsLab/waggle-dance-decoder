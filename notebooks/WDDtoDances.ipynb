{
 "cells": [
  {
   "cell_type": "code",
   "execution_count": 1,
   "metadata": {},
   "outputs": [],
   "source": [
    "import os\n",
    "import csv\n",
    "import sys\n",
    "import numpy as np\n",
    "\n",
    "sys.path.append('../utils/')\n",
    "sys.path.append('../functions/')\n",
    "from file_manager import File_manager"
   ]
  },
  {
   "cell_type": "code",
   "execution_count": null,
   "metadata": {},
   "outputs": [],
   "source": [
    "#Decode all WRs in a day directory\n",
    "%run -i '../FourierAngle.py'"
   ]
  },
  {
   "cell_type": "code",
   "execution_count": null,
   "metadata": {
    "collapsed": true
   },
   "outputs": [],
   "source": [
    "#It writes in destination file only real positive dances\n",
    "#index is the output from the filter network containing:\n",
    "#[key1] + [key2] + [pred]\n",
    "index = '../Data/Filtering/filter-results-6-ferwar.csv'\n",
    "#origin is the output from the \"FourierAngle.py\" function containing:\n",
    "#[key] + [length] + [raw_angle] + [x0] + [y0] + [date] + [time] +  [cam_angle]\n",
    "origin = '../Data/20160816_decoder.csv'\n",
    "#destination is the filtered version of origin\n",
    "destination = '../Data/Filtering/20160816_filtered.csv'\n",
    "\n",
    "#Destination file is removed if it already exists\n",
    "if (os.path.exists(destination)):\n",
    "    os.remove(destination)\n",
    "\n",
    "DecArray = {}\n",
    "#Load all info to an array\n",
    "with open(origin, 'rt', encoding='utf-8-sig') as file1:\n",
    "    reader1 = csv.reader(file1, delimiter=',', quotechar='|')    \n",
    "    for line in reader1:        \n",
    "        DecArray[line[0]] = line\n",
    "        \n",
    "#Opens index file with the filter information\n",
    "with open(index, 'rt', encoding='utf-8-sig') as file2:\n",
    "    reader2 = csv.reader(file2, delimiter=',', quotechar='|')\n",
    "    #skiping header\n",
    "    next(reader2)\n",
    "    for line in reader2:\n",
    "        #If the waggle run was classified as real positive it is written into the destination file\n",
    "        #the threshold was provided by Ben\n",
    "        if (line[-1] > '0.399'):\n",
    "            key = line[0] + '/' + line[1]\n",
    "            with open(destination, 'at', newline='') as out_file:\n",
    "                #writer = csv.writer(out_file, delimiter=',', quotechar='|', quoting=csv.QUOTE_MINIMAL)\n",
    "                writer = csv.writer(out_file, delimiter=',', quoting=csv.QUOTE_NONE)\n",
    "                #line from the decoder is printed in destination file\n",
    "                writer.writerow(DecArray[key])"
   ]
  },
  {
   "cell_type": "code",
   "execution_count": 3,
   "metadata": {},
   "outputs": [
    {
     "name": "stdout",
     "output_type": "stream",
     "text": [
      "Results saved in 20171205_2102_decoder_cam1_20171205_2146.csv\r\n"
     ]
    }
   ],
   "source": [
    "\"\"\"\n",
    "Clustering and RANSAC for WDD2017 paper\n",
    "Fernando Wario\n",
    "July 2017\n",
    "\n",
    "Fit model to data using the RANSAC algorithm\n",
    "Given:\n",
    "    [options]\n",
    "    -p --plot: Output format.\n",
    "    -v --verbose: Verbose mode on.\n",
    "    \n",
    "    [arguments]\n",
    "    file: Path to input file with decoder format (generated with FourierAngle.py).\n",
    "    cam: Camera to analyze, 1 or 0.\n",
    "    max_d: Euclidean distance threshold for clustering process.\n",
    "    n: Minimum number of data values required to compute an angle during RANSAC process.\n",
    "    t: a threshold value for determining when a data point fits a model during RANSAC process.\n",
    "    \n",
    "Return:\n",
    "    outputFile: Results from the analysis are writen in outputFile with the corresponding format.\n",
    "\"\"\"\n",
    "%run -i ../Clustering.py C:\\Users\\Eusebio\\Documents\\Repositories\\waggle-dance-decoder\\20171205_2102_decoder.csv"
   ]
  },
  {
   "cell_type": "code",
   "execution_count": null,
   "metadata": {
    "collapsed": true
   },
   "outputs": [],
   "source": []
  }
 ],
 "metadata": {
  "kernelspec": {
   "display_name": "Python 3",
   "language": "python",
   "name": "python3"
  },
  "language_info": {
   "codemirror_mode": {
    "name": "ipython",
    "version": 3
   },
   "file_extension": ".py",
   "mimetype": "text/x-python",
   "name": "python",
   "nbconvert_exporter": "python",
   "pygments_lexer": "ipython3",
   "version": "3.5.2"
  }
 },
 "nbformat": 4,
 "nbformat_minor": 1
}
