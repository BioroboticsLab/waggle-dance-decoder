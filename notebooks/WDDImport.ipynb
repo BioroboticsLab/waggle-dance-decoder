{
 "cells": [
  {
   "cell_type": "code",
   "execution_count": null,
   "metadata": {
    "collapsed": true
   },
   "outputs": [],
   "source": [
    "import os\n",
    "import csv\n",
    "import sys\n",
    "import numpy as np\n",
    "\n",
    "sys.path.append('../utils/')\n",
    "from file_manager import File_manager"
   ]
  },
  {
   "cell_type": "code",
   "execution_count": null,
   "metadata": {
    "collapsed": true
   },
   "outputs": [],
   "source": [
    "#To import results from WDD-decoder\n",
    "#It reads the data from 'ForList.csv' files in each folder\n",
    "#and it writes them in a path/ForList.csv file\n",
    "#it imports all files in the path subfolders\n",
    "path = '../Data/GTRuns/'\n",
    "\n",
    "\n",
    "#Filters all dance subdirectories\n",
    "folders = filter(lambda x: os.path.isdir(os.path.join(path, x)), os.listdir(path))\n",
    "\n",
    "if (os.path.exists(path + '/' + 'ForList.csv')):\n",
    "    os.remove(path + '/' + 'ForList.csv')\n",
    "\n",
    "#Iterates through all the dances\n",
    "for folder in folders:\n",
    "    #Sets the path to the current dance\n",
    "    tmp_path = os.path.join(path,folder)\n",
    "    #Filters list of waggle runs\n",
    "    wd_runs = filter(lambda x: os.path.isdir(os.path.join(tmp_path, x)), os.listdir(tmp_path))    \n",
    "    #Iterates through the waggle runs\n",
    "    for run in wd_runs:\n",
    "        #Path to next run\n",
    "        key = os.path.join(tmp_path,run)\n",
    "        #Reading\n",
    "        \n",
    "        with open(key + '/' + 'ForList.csv', 'rt', encoding='utf-8-sig') as in_file:\n",
    "            reader = csv.reader(in_file, delimiter=',', quotechar='|')\n",
    "            row = next(reader)               \n",
    "        \n",
    "        #Writing\n",
    "        with open(path + '/' + 'ForList.csv', 'at', newline='') as out_file:\n",
    "            writer = csv.writer(out_file, delimiter=',', quotechar='|', quoting=csv.QUOTE_MINIMAL)\n",
    "            #print(row)\n",
    "            writer.writerow(row)"
   ]
  },
  {
   "cell_type": "code",
   "execution_count": null,
   "metadata": {
    "collapsed": true
   },
   "outputs": [],
   "source": [
    "#It writes in destination file only real positive dances\n",
    "index = '../Data/Filtering/filter-results-6-ferwar.csv'\n",
    "origin = '../Data/20160816_decoder.csv'\n",
    "destination = '../Data/Filtering/20160816_filtered.csv'\n",
    "\n",
    "#Destination file is removed if it already exists\n",
    "if (os.path.exists(destination)):\n",
    "    os.remove(destination)\n",
    "\n",
    "DecArray = {}\n",
    "#Load all info to an array\n",
    "with open(origin, 'rt', encoding='utf-8-sig') as file1:\n",
    "    reader1 = csv.reader(file1, delimiter=',', quotechar='|')    \n",
    "    for line in reader1:        \n",
    "        DecArray[line[0]] = line\n",
    "        \n",
    "#Opens index file with the filter information\n",
    "with open(index, 'rt', encoding='utf-8-sig') as file2:\n",
    "    reader2 = csv.reader(file2, delimiter=',', quotechar='|')\n",
    "    #skiping header\n",
    "    next(reader2)\n",
    "    for line in reader2:\n",
    "        #If the waggle run was classified as real positive it is written into the destination file\n",
    "        #the threshold was provided by Ben\n",
    "        if (line[-1] > '0.399'):\n",
    "            key = line[0] + '/' + line[1]\n",
    "            with open(destination, 'at', newline='') as out_file:\n",
    "                #writer = csv.writer(out_file, delimiter=',', quotechar='|', quoting=csv.QUOTE_MINIMAL)\n",
    "                writer = csv.writer(out_file, delimiter=',', quoting=csv.QUOTE_NONE)\n",
    "                #line from the decoder is printed in destination file\n",
    "                writer.writerow(DecArray[key])"
   ]
  }
 ],
 "metadata": {
  "kernelspec": {
   "display_name": "Python 3",
   "language": "python",
   "name": "python3"
  },
  "language_info": {
   "codemirror_mode": {
    "name": "ipython",
    "version": 3
   },
   "file_extension": ".py",
   "mimetype": "text/x-python",
   "name": "python",
   "nbconvert_exporter": "python",
   "pygments_lexer": "ipython3",
   "version": "3.5.2"
  }
 },
 "nbformat": 4,
 "nbformat_minor": 1
}
