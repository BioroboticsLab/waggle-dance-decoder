{
 "cells": [
  {
   "cell_type": "code",
   "execution_count": null,
   "metadata": {},
   "outputs": [],
   "source": [
    "%matplotlib notebook\n",
    "\n",
    "import numpy as np\n",
    "import cv2\n",
    "import os\n",
    "import sys\n",
    "import glob\n",
    "import matplotlib.mlab as mlab\n",
    "import matplotlib.image as mpimg\n",
    "\n",
    "from matplotlib import pyplot as plt\n",
    "from joblib import Parallel, delayed\n",
    "from sklearn.linear_model import TheilSenRegressor\n",
    "from skimage.transform import radon, rescale\n",
    "from scipy.stats import multivariate_normal\n",
    "from scipy import stats\n",
    "\n",
    "sys.path.append('../functions/')\n",
    "sys.path.append('../utils/')\n",
    "\n",
    "from DoG import DoG\n",
    "from file_manager import File_manager\n",
    "from wdd_decoder_functions import create_diff_images, filter_with_kernel, calc_accumulator, calc_angles, read_GT\n",
    "from wdd_decoder_functions import read_DD, def_orientation, subst_angles\n",
    "\n",
    "#Radian\n",
    "radi = 180/np.pi"
   ]
  },
  {
   "cell_type": "code",
   "execution_count": null,
   "metadata": {},
   "outputs": [],
   "source": [
    "############################ TEST ###########################################\n",
    "#Angle\n",
    "a = 60\n",
    "\n",
    "#Null matrix\n",
    "col = 50\n",
    "row = 50\n",
    "test = np.zeros(shape=(col, row))\n",
    "\n",
    "#Covariance\n",
    "test_cov = 120 * np.eye(2)\n",
    "test_cov[1][1] = test_cov[1][1] /4\n",
    "print('Covariance')\n",
    "print(test_cov)\n",
    "\n",
    "#Rotation Matrix for angle a\n",
    "rot = np.array([[np.cos(a/radi), -np.sin(a/radi)],[np.sin(a/radi), np.cos(a/radi)]])\n",
    "print('Rotation Matrix')\n",
    "print(rot)\n",
    "test_cov = np.transpose(rot) @ test_cov @ rot\n",
    "\n",
    "#Building the covariance matrix nxn\n",
    "for x in range(col):\n",
    "    for y in range(row):\n",
    "        test[y,x] = multivariate_normal.pdf([x, y], mean=(col/2, row/2), cov=test_cov)\n",
    "\n",
    "#Plotting covariance matrix\n",
    "# fig=plt.figure()\n",
    "# fig.suptitle('Covariance Matrix')\n",
    "# plt.imshow(test)\n",
    "# plt.show"
   ]
  },
  {
   "cell_type": "code",
   "execution_count": null,
   "metadata": {},
   "outputs": [],
   "source": [
    "###################################### TEST #############################################\n",
    "moment = cv2.moments(test)\n",
    "\n",
    "#Image covariance (central nomarlized moments)\n",
    "img_cov = np.array([[moment['nu20'], moment['nu11']], [moment['nu11'], moment['nu02']]])\n",
    "print('Image Covariance')\n",
    "print(img_cov.astype(int))\n",
    "\n",
    "#Eigenvalues\n",
    "w, v = np.linalg.eig(img_cov)\n",
    "\n",
    "#Eigenvalues\n",
    "print('Eigenvalues w')\n",
    "print(w)\n",
    "\n",
    "#Normalized Eigenvectors\n",
    "print('Eigenvectors v')\n",
    "print(v)\n",
    "\n",
    "#Angle first component\n",
    "print('FIRST COMPONENT')\n",
    "print('Angle in degrees (Cartesian)')\n",
    "angleFC = np.arctan2(v[1][np.argmax(w)], v[0][np.argmax(w)])*radi;\n",
    "print(angleFC)\n",
    "print('Angle in degrees (Image)')\n",
    "print(-angleFC)\n",
    "\n",
    "#Angle second component\n",
    "print('SECOND COMPONENT')\n",
    "print('Angle in degrees (Cartesian)')\n",
    "angleSC = np.arctan2(v[1][np.argmin(w)], v[0][np.argmin(w)])*radi;\n",
    "print(angleSC)\n",
    "print('Angle in degrees (Image)')\n",
    "print(-np.arctan2(v[1][np.argmin(w)], v[0][np.argmin(w)])*radi)\n"
   ]
  },
  {
   "cell_type": "code",
   "execution_count": null,
   "metadata": {},
   "outputs": [],
   "source": [
    "\n"
   ]
  },
  {
   "cell_type": "code",
   "execution_count": null,
   "metadata": {
    "collapsed": true
   },
   "outputs": [],
   "source": [
    "###################################### TEST #############################################\n",
    "moment = cv2.moments(test)\n",
    "\n",
    "#Image covariance (central nomarlized moments)\n",
    "img_cov = np.array([[moment['nu20'], moment['nu11']], [moment['nu11'], moment['nu02']]])\n",
    "print('Image Covariance')\n",
    "print(img_cov.astype(int))\n",
    "\n",
    "#Eigenvalues\n",
    "w, v = np.linalg.eig(img_cov)\n",
    "\n",
    "#Eigenvalues\n",
    "print('Eigenvalues w')\n",
    "print(w)\n",
    "\n",
    "#Normalized Eigenvectors\n",
    "print('Eigenvectors v')\n",
    "print(v)\n",
    "\n",
    "#Angle first component\n",
    "print('FIRST COMPONENT')\n",
    "print('Angle in degrees (Cartesian)')\n",
    "angleFC = np.arctan2(v[1][np.argmax(w)], v[0][np.argmax(w)])*radi;\n",
    "print(angleFC)\n",
    "print('Angle in degrees (Image)')\n",
    "print(-angleFC)\n",
    "\n",
    "#Angle second component\n",
    "print('SECOND COMPONENT')\n",
    "print('Angle in degrees (Cartesian)')\n",
    "angleSC = np.arctan2(v[1][np.argmin(w)], v[0][np.argmin(w)])*radi;\n",
    "print(angleSC)\n",
    "print('Angle in degrees (Image)')\n",
    "print(-np.arctan2(v[1][np.argmin(w)], v[0][np.argmin(w)])*radi)\n"
   ]
  },
  {
   "cell_type": "code",
   "execution_count": null,
   "metadata": {
    "collapsed": true
   },
   "outputs": [],
   "source": [
    "#Path to the dances and WR test\n",
    "#With WDs\n",
    "path = '../Data/WDs/'\n",
    "pathWR = '../Data/WDs/20160814_1002_1/9/'\n",
    "#With NoWDs\n",
    "pathNW = '../Data/NoWD/'\n",
    "pathWRNW = '../Data/NoWD/20160814_1017_1/0/'\n",
    "#Creates the difference images\n",
    "diff_img = create_diff_images(path)\n",
    "diff_imgNW = create_diff_images(pathNW)"
   ]
  },
  {
   "cell_type": "code",
   "execution_count": null,
   "metadata": {
    "collapsed": true
   },
   "outputs": [],
   "source": [
    "###################################### TEST #############################################\n",
    "#Original image\n",
    "fig1 = plt.figure()\n",
    "fig1.suptitle(pathWR + 'image_000.png and ' + pathWRNW + 'image_000.png')\n",
    "#Dance\n",
    "plt.subplot(221)\n",
    "plt.imshow(mpimg.imread(pathWR + 'image_034.png'))\n",
    "plt.subplot(223)\n",
    "plt.imshow(mpimg.imread(pathWR + 'image_035.png'))\n",
    "#No Dance\n",
    "plt.subplot(222)\n",
    "plt.imshow(mpimg.imread(pathWRNW + 'image_000.png'))\n",
    "plt.subplot(224)\n",
    "plt.imshow(mpimg.imread(pathWRNW + 'image_001.png'))"
   ]
  },
  {
   "cell_type": "code",
   "execution_count": null,
   "metadata": {
    "collapsed": true
   },
   "outputs": [],
   "source": [
    "###################################### TEST #############################################\n",
    "#Difference image\n",
    "fig2 = plt.figure()\n",
    "fig2.suptitle('diff_img for  ' + pathWR + ' and ' + pathWRNW)\n",
    "#Dance\n",
    "plt.subplot(121)\n",
    "plt.imshow(diff_img[pathWR][34], cmap=plt.cm.jet)\n",
    "#No Dance\n",
    "plt.subplot(122)\n",
    "plt.imshow(diff_imgNW[pathWRNW][0], cmap=plt.cm.jet)\n",
    "plt.show"
   ]
  },
  {
   "cell_type": "code",
   "execution_count": null,
   "metadata": {
    "collapsed": true
   },
   "outputs": [],
   "source": [
    "###################################### TEST #############################################\n",
    "#Difference image\n",
    "fig2 = plt.figure()\n",
    "fig2.suptitle('diff_img for  ' + pathWR + ' and ' + pathWRNW)\n",
    "#Dance\n",
    "plt.subplot(241)\n",
    "plt.imshow(diff_img[pathWR][32], cmap=plt.cm.jet)\n",
    "#Dance\n",
    "plt.subplot(242)\n",
    "plt.imshow(diff_img[pathWR][33], cmap=plt.cm.jet)\n",
    "#Dance\n",
    "plt.subplot(243)\n",
    "plt.imshow(diff_img[pathWR][34], cmap=plt.cm.jet)\n",
    "#Dance\n",
    "plt.subplot(244)\n",
    "plt.imshow(diff_img[pathWR][35], cmap=plt.cm.jet)\n",
    "\n",
    "#Dance\n",
    "plt.subplot(245)\n",
    "plt.imshow(diff_img[pathWR][36], cmap=plt.cm.jet)\n",
    "#Dance\n",
    "plt.subplot(246)\n",
    "plt.imshow(diff_img[pathWR][37], cmap=plt.cm.jet)\n",
    "#Dance\n",
    "plt.subplot(247)\n",
    "plt.imshow(diff_img[pathWR][38], cmap=plt.cm.jet)\n",
    "#Dance\n",
    "plt.subplot(248)\n",
    "plt.imshow(diff_img[pathWR][39], cmap=plt.cm.jet)\n",
    "\n",
    "plt.show"
   ]
  },
  {
   "cell_type": "code",
   "execution_count": null,
   "metadata": {
    "collapsed": true
   },
   "outputs": [],
   "source": [
    "###################################### TEST #############################################\n",
    "a=diff_img[pathWR][33]\n",
    "\n",
    "fig2 = plt.figure()\n",
    "plt.imshow(a, cmap=plt.cm.jet)\n",
    "\n",
    "\n",
    "print('max = ' + str(a.max()))\n",
    "print('x = ' + str(np.argmax(np.max(a, axis=0))))\n",
    "print('y = ' + str(np.argmax(np.max(a, axis=1))))\n",
    "print(a[np.argmax(np.max(a, axis=1)),np.argmax(np.max(a, axis=0))])\n",
    "\n",
    "print('min = ' + str(a.min()))\n",
    "print('x = ' + str(np.argmin(np.min(a, axis=0))))\n",
    "print('y = ' + str(np.argmin(np.min(a, axis=1))))\n",
    "print(a[np.argmin(np.min(a, axis=1)),np.argmin(np.min(a, axis=0))])\n",
    "\n",
    "b=[np.argmax(np.max(a, axis=0))-np.argmin(np.min(a, axis=0)),np.argmax(np.max(a, axis=1))-np.argmin(np.min(a, axis=1))]\n",
    "print(np.linalg.norm(b))"
   ]
  },
  {
   "cell_type": "code",
   "execution_count": null,
   "metadata": {
    "collapsed": true
   },
   "outputs": [],
   "source": [
    "###################################### TEST #############################################\n",
    "#Dance\n",
    "a = np.fft.fftshift(abs(np.fft.fft2(diff_img[pathWR][34])))\n",
    "\n",
    "fig2 = plt.figure()\n",
    "plt.imshow(a, cmap=plt.cm.jet)\n",
    "\n",
    "print('max = ' + str(a.max()))\n",
    "print('x = ' + str(np.argmax(np.max(a, axis=0))))\n",
    "print('y = ' + str(np.argmax(np.max(a, axis=1))))\n",
    "print(a[np.argmax(np.max(a, axis=1)),np.argmax(np.max(a, axis=0))])\n",
    "\n",
    "b=[np.argmax(np.max(a, axis=0))-24,np.argmax(np.max(a, axis=1))-24]\n",
    "print(np.linalg.norm(b))"
   ]
  },
  {
   "cell_type": "code",
   "execution_count": null,
   "metadata": {
    "collapsed": true
   },
   "outputs": [],
   "source": [
    "###################################### TEST #############################################\n",
    "#a=diff_img[pathWR][34]\n",
    "a=mpimg.imread(pathWR + 'image_035.png')\n",
    "\n",
    "fig2 = plt.figure()\n",
    "plt.imshow(a, cmap=plt.cm.jet)\n",
    "len(diff_img[pathWR])"
   ]
  },
  {
   "cell_type": "code",
   "execution_count": null,
   "metadata": {
    "collapsed": true
   },
   "outputs": [],
   "source": [
    "###################################### TEST #############################################\n",
    "#Original image\n",
    "fig1 = plt.figure()\n",
    "fig1.suptitle(pathWR + 'image_034.png and ' + pathWR + 'image_035.png')\n",
    "#Dance\n",
    "plt.subplot(131)\n",
    "plt.imshow(mpimg.imread(pathWR + 'image_034.png'))\n",
    "plt.subplot(132)\n",
    "plt.imshow(mpimg.imread(pathWR + 'image_035.png'))\n",
    "plt.subplot(133)\n",
    "plt.imshow(diff_img[pathWR][34], cmap=plt.cm.jet)\n"
   ]
  },
  {
   "cell_type": "code",
   "execution_count": null,
   "metadata": {
    "collapsed": true
   },
   "outputs": [],
   "source": [
    "###################################### TEST #############################################\n",
    "#Dance\n",
    "tmpWR = np.fft.fftshift(abs(np.fft.fft2(diff_img[pathWR][34])))\n",
    "#No Dance\n",
    "tmpNW = np.fft.fftshift(abs(np.fft.fft2(diff_imgNW[pathWRNW][0])))\n",
    "\n",
    "fig3 = plt.figure()\n",
    "fig3.suptitle('FFT ' + pathWR + ' and ' + pathWRNW)\n",
    "#Dance\n",
    "plt.subplot(121)\n",
    "plt.imshow(tmpWR, cmap=plt.cm.jet)\n",
    "#No Dance\n",
    "plt.subplot(122)\n",
    "plt.imshow(tmpNW, cmap=plt.cm.jet)"
   ]
  },
  {
   "cell_type": "code",
   "execution_count": null,
   "metadata": {
    "collapsed": true
   },
   "outputs": [],
   "source": [
    "#Dances\n",
    "FDI = calc_accumulator(diff_img)\n",
    "#No Dances\n",
    "FDINW = calc_accumulator(diff_imgNW)"
   ]
  },
  {
   "cell_type": "code",
   "execution_count": null,
   "metadata": {
    "collapsed": true
   },
   "outputs": [],
   "source": [
    "###################################### TEST #############################################\n",
    "fig4 = plt.figure()\n",
    "fig4.suptitle('Accumulator FDI for: ' + pathWR + ' and ' + pathWRNW)\n",
    "#Dance\n",
    "plt.subplot(121)\n",
    "plt.imshow(FDI[pathWR], cmap=plt.cm.jet)\n",
    "#No Dance\n",
    "plt.subplot(122)\n",
    "plt.imshow(FDINW[pathWRNW], cmap=plt.cm.jet)\n",
    "plt.show()"
   ]
  },
  {
   "cell_type": "code",
   "execution_count": null,
   "metadata": {
    "collapsed": true
   },
   "outputs": [],
   "source": [
    "###################################### TEST #############################################\n",
    "#Dance\n",
    "moment = cv2.moments(FDI[pathWR])\n",
    "#Image covariance\n",
    "img_cov = np.array([[moment['nu20'], moment['nu11']], [moment['nu11'], moment['nu02']]])\n",
    "#Eigenvalues\n",
    "w, v = np.linalg.eig(img_cov)\n",
    "#Eigenvalues\n",
    "print('Dance')\n",
    "print('Eigenvalues w')\n",
    "print(w)\n",
    "#Normalized Eigenvectors\n",
    "print('Eigenvectors v')\n",
    "print(v)\n",
    "\n",
    "print('--------------------------------------------------')\n",
    "#No Dance\n",
    "moment = cv2.moments(FDINW[pathWRNW])\n",
    "#Image covariance\n",
    "img_cov = np.array([[moment['nu20'], moment['nu11']], [moment['nu11'], moment['nu02']]])\n",
    "#Eigenvalues\n",
    "w, v = np.linalg.eig(img_cov)\n",
    "#Eigenvalues\n",
    "print('No Dance')\n",
    "print('Eigenvalues w')\n",
    "print(w)\n",
    "#Normalized Eigenvectors\n",
    "print('Eigenvectors v')\n",
    "print(v)"
   ]
  },
  {
   "cell_type": "code",
   "execution_count": null,
   "metadata": {
    "collapsed": true
   },
   "outputs": [],
   "source": [
    "###################################### TEST ##########################################\n",
    "dog = DoG().mexican_head_kernel\n",
    "\n",
    "cov1 = 30 * np.eye(2)\n",
    "cov2 = 4 * np.eye(2)\n",
    "\n",
    "_dog = abs(np.fft.fftshift(np.fft.fft2(dog(50, [25,25], cov1, [25,25], cov2))))\n",
    "\n",
    "fig5 = plt.figure()\n",
    "fig5.suptitle('Mexican hat kernel')\n",
    "plt.imshow(_dog, cmap=plt.cm.jet)\n",
    "plt.show"
   ]
  },
  {
   "cell_type": "code",
   "execution_count": null,
   "metadata": {
    "collapsed": true
   },
   "outputs": [],
   "source": [
    "#Dance\n",
    "FDI_filt = filter_with_kernel(FDI)\n",
    "#No Dance\n",
    "FDI_filtNW = filter_with_kernel(FDINW)"
   ]
  },
  {
   "cell_type": "code",
   "execution_count": null,
   "metadata": {
    "collapsed": true
   },
   "outputs": [],
   "source": [
    "###################################### TEST #############################################\n",
    "dog = DoG().mexican_head_kernel\n",
    "cov1 = 30 * np.eye(2)\n",
    "cov2 = 4 * np.eye(2)\n",
    "Kern1 = dog(50, [25,25], cov1, [25,25], cov2)\n",
    "Kern2 = abs(np.fft.fftshift(np.fft.fft2(Kern1)))\n",
    "\n",
    "fig6 = plt.figure()\n",
    "fig6.suptitle('Mexican hat function and its DTFT')\n",
    "#Dance\n",
    "plt.subplot(121)\n",
    "plt.imshow(Kern1, cmap=plt.cm.jet)\n",
    "#No Dance\n",
    "plt.subplot(122)\n",
    "plt.imshow(Kern2, cmap=plt.cm.jet)\n",
    "plt.show()"
   ]
  },
  {
   "cell_type": "code",
   "execution_count": null,
   "metadata": {
    "collapsed": true
   },
   "outputs": [],
   "source": [
    "###################################### TEST #############################################\n",
    "plt.imshow(FDI_filt[pathWR])\n",
    "plt.show()\n",
    "\n",
    "fig6 = plt.figure()\n",
    "fig6.suptitle('Accumulator FDI * Kernel for: ' + pathWR + ' and ' + pathWRNW)\n",
    "#Dance\n",
    "plt.subplot(121)\n",
    "plt.imshow(FDI_filt[pathWR], cmap=plt.cm.jet)\n",
    "#No Dance\n",
    "plt.subplot(122)\n",
    "plt.imshow(FDI_filtNW[pathWRNW], cmap=plt.cm.jet)\n",
    "plt.show()"
   ]
  },
  {
   "cell_type": "code",
   "execution_count": null,
   "metadata": {
    "collapsed": true
   },
   "outputs": [],
   "source": [
    "####################### TEST TO FILTER OUT FALSE POSITIVES ##################################\n",
    "#Dance\n",
    "moment = cv2.moments(FDI_filt[pathWR])\n",
    "#Image covariance\n",
    "img_cov = np.array([[moment['nu20'], moment['nu11']], [moment['nu11'], moment['nu02']]])\n",
    "#Eigenvalues\n",
    "w, v = np.linalg.eig(img_cov)\n",
    "#Eigenvalues\n",
    "print('Dance')\n",
    "print('Eigenvalues w')\n",
    "print(w)\n",
    "#Normalized Eigenvectors\n",
    "print('Eigenvectors v')\n",
    "print(v)\n",
    "\n",
    "print('--------------------------------------------------')\n",
    "#No Dance\n",
    "moment = cv2.moments(FDI_filtNW[pathWRNW])\n",
    "#Image covariance\n",
    "img_cov = np.array([[moment['nu20'], moment['nu11']], [moment['nu11'], moment['nu02']]])\n",
    "#Eigenvalues\n",
    "w, v = np.linalg.eig(img_cov)\n",
    "#Eigenvalues\n",
    "print('No Dance')\n",
    "print('Eigenvalues w')\n",
    "print(w)\n",
    "#Normalized Eigenvectors\n",
    "print('Eigenvectors v')\n",
    "print(v)"
   ]
  },
  {
   "cell_type": "code",
   "execution_count": null,
   "metadata": {
    "collapsed": true
   },
   "outputs": [],
   "source": [
    "angles = calc_angles(FDI)\n",
    "angles_filt = calc_angles(FDI_filt)"
   ]
  },
  {
   "cell_type": "code",
   "execution_count": null,
   "metadata": {
    "collapsed": true
   },
   "outputs": [],
   "source": [
    "#ReadGT\n",
    "gt_angles = read_GT(path)\n",
    "#ReadDD\n",
    "dd_angles = read_DD(path)\n",
    "#Orientation adjusted fft angles\n",
    "adj_angles = def_orientation(angles, dd_angles)\n",
    "#Orientation corrected fftfilt angles\n",
    "adj_angles_filt = def_orientation(angles_filt, dd_angles)"
   ]
  },
  {
   "cell_type": "code",
   "execution_count": null,
   "metadata": {
    "collapsed": true
   },
   "outputs": [],
   "source": [
    "errDDAngle={}\n",
    "errFFTAngle={}\n",
    "errFilterAngle={}\n",
    "for key, angle in list(angles.items()):\n",
    "    errDDAngle[key] = subst_angles(dd_angles[key],gt_angles[key])\n",
    "    errFFTAngle[key] = subst_angles(adj_angles[key],gt_angles[key])\n",
    "    errFilterAngle[key] = subst_angles(adj_angles_filt[key],gt_angles[key])"
   ]
  },
  {
   "cell_type": "code",
   "execution_count": null,
   "metadata": {
    "collapsed": true
   },
   "outputs": [],
   "source": [
    "###################################### TEST #############################################\n",
    "for key, angle in list(angles.items()):        \n",
    "    print (key)\n",
    "    print ('FFT Angle:             ' + str(angles[key]))\n",
    "    print ('Filter Angle:          ' + str(angles_filt[key]))\n",
    "    print ('GroundTruth Angle:     ' + str(gt_angles[key]))\n",
    "    print ('DotDetector Angle:     ' + str(dd_angles[key]))    \n",
    "    print ('FFTAngle - GTAngle:    ' + str(errFFTAngle[key]))    \n",
    "    print ('FilterAngle - GTAngle: ' + str(errFilterAngle[key]))    \n",
    "    print ('---------------------------------------------------')"
   ]
  },
  {
   "cell_type": "code",
   "execution_count": null,
   "metadata": {
    "collapsed": true
   },
   "outputs": [],
   "source": [
    "###################################### TEST #############################################\n",
    "list_values = [v for v in errDDAngle.values()]\n",
    "\n",
    "list_values = np.array(list_values)\n",
    "list_values = list_values[np.logical_and(list_values>-150.0,list_values<150.0)]\n",
    "\n",
    "mean=np.mean(list_values)\n",
    "sigma=np.std(list_values)\n",
    "\n",
    "print('mean = ' + str(mean))\n",
    "print('std = ' + str(sigma))\n",
    "\n",
    "fig6 = plt.figure()\n",
    "plt.hist(list_values, bins=100, normed=True)\n",
    "\n",
    "x = np.linspace(min(list_values), max(list_values), 100)\n",
    "plt.plot(x, mlab.normpdf(x, mean, sigma))\n",
    "\n",
    "plt.annotate('mean = ' + str(mean), xy=(-180, .022))\n",
    "plt.annotate('std = ' + str(sigma), xy=(-180, .020))\n",
    "\n",
    "plt.title(\"Histogram DotDetectorAngles\")\n",
    "plt.show()"
   ]
  },
  {
   "cell_type": "code",
   "execution_count": null,
   "metadata": {
    "collapsed": true
   },
   "outputs": [],
   "source": [
    "###################################### TEST #############################################\n",
    "list_values = [v for v in errFFTAngle.values()]\n",
    "\n",
    "mean=np.mean(list_values)\n",
    "sigma=np.std(list_values)\n",
    "\n",
    "print('mean = ' + str(mean))\n",
    "print('std = ' + str(sigma))\n",
    "\n",
    "fig7 = plt.figure()\n",
    "plt.hist(list_values, bins=100, normed=True)\n",
    "\n",
    "x = np.linspace(min(list_values), max(list_values), 100)\n",
    "plt.plot(x, mlab.normpdf(x, mean, sigma))\n",
    "\n",
    "plt.annotate('mean = ' + str(mean), xy=(-140, .025))\n",
    "plt.annotate('std = ' + str(sigma), xy=(-140, .023))\n",
    "\n",
    "plt.title(\"Histogram errFFTAngle\")\n",
    "plt.show()"
   ]
  },
  {
   "cell_type": "code",
   "execution_count": null,
   "metadata": {
    "collapsed": true
   },
   "outputs": [],
   "source": [
    "###################################### TEST #############################################\n",
    "list_values = [v for v in errFilterAngle.values()]\n",
    "\n",
    "mean = np.mean(list_values)\n",
    "sigma = np.std(list_values)\n",
    "\n",
    "print('mean = ' + str(mean))\n",
    "print('std = ' + str(sigma))\n",
    "\n",
    "fig8 = plt.figure()\n",
    "plt.hist(list_values, bins=100, normed=True)\n",
    "\n",
    "x = np.linspace(min(list_values), max(list_values), 100)\n",
    "plt.plot(x, mlab.normpdf(x, mean, sigma))\n",
    "\n",
    "plt.annotate('mean = ' + str(mean), xy=(-180, .06))\n",
    "plt.annotate('std = ' + str(sigma), xy=(-180, .055))\n",
    "\n",
    "plt.title(\"Histogram errFilterAngle\")\n",
    "plt.show()"
   ]
  },
  {
   "cell_type": "code",
   "execution_count": null,
   "metadata": {
    "collapsed": true
   },
   "outputs": [],
   "source": [
    "###################################### TEST #############################################\n",
    "list_values = [v for v in errFilterAngle.values()]\n",
    "\n",
    "list_values = np.array(list_values)\n",
    "list_values = list_values[np.logical_and(list_values>-150.0,list_values<150.0)]\n",
    "\n",
    "mean = np.mean(list_values)\n",
    "sigma = np.std(list_values)\n",
    "\n",
    "print('mean = ' + str(mean))\n",
    "print('std = ' + str(sigma))\n",
    "\n",
    "fig9 = plt.figure()\n",
    "plt.hist(list_values, bins=50, normed=True)\n",
    "\n",
    "x = np.linspace(min(list_values), max(list_values), 100)\n",
    "plt.plot(x, mlab.normpdf(x, mean, sigma))\n",
    "\n",
    "plt.annotate('mean = ' + str(mean), xy=(-24, .08))\n",
    "plt.annotate('std = ' + str(sigma), xy=(-24, .075))\n",
    "\n",
    "plt.title(\"Histogram errFilterAngle\")\n",
    "plt.show()"
   ]
  },
  {
   "cell_type": "code",
   "execution_count": null,
   "metadata": {
    "collapsed": true
   },
   "outputs": [],
   "source": []
  }
 ],
 "metadata": {
  "kernelspec": {
   "display_name": "Python 3",
   "language": "python",
   "name": "python3"
  },
  "language_info": {
   "codemirror_mode": {
    "name": "ipython",
    "version": 3
   },
   "file_extension": ".py",
   "mimetype": "text/x-python",
   "name": "python",
   "nbconvert_exporter": "python",
   "pygments_lexer": "ipython3",
   "version": "3.5.2"
  }
 },
 "nbformat": 4,
 "nbformat_minor": 1
}
