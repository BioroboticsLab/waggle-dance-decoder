{
 "cells": [
  {
   "cell_type": "code",
   "execution_count": 1,
   "metadata": {
    "collapsed": true
   },
   "outputs": [],
   "source": [
    "#Clustering and RANSAC for WDD2017 paper\n",
    "#Fernando Wario\n",
    "#June 2017\n",
    "\n",
    "%matplotlib notebook\n",
    "\n",
    "import csv\n",
    "import cv2\n",
    "import datetime\n",
    "import glob\n",
    "import json\n",
    "import math\n",
    "import numpy as np\n",
    "import os\n",
    "import pandas\n",
    "import sys\n",
    "import scipy.cluster\n",
    "import matplotlib.mlab as mlab\n",
    "import matplotlib.cm as cm\n",
    "import matplotlib.image as mpimg\n",
    "import matplotlib.pyplot as plt\n",
    "\n",
    "from mpl_toolkits.mplot3d import Axes3D\n",
    "from joblib import Parallel, delayed\n",
    "from sklearn import preprocessing\n",
    "from sklearn.linear_model import TheilSenRegressor\n",
    "from skimage.transform import radon, rescale\n",
    "from scipy.stats import multivariate_normal\n",
    "from scipy import stats\n",
    "\n",
    "sys.path.append('../functions/')\n",
    "sys.path.append('../utils/')\n",
    "\n",
    "from VidPlayer import VidPlayer\n",
    "\n",
    "#Radian\n",
    "radi = 180/np.pi"
   ]
  },
  {
   "cell_type": "code",
   "execution_count": 4,
   "metadata": {},
   "outputs": [
    {
     "name": "stdout",
     "output_type": "stream",
     "text": [
      "done with A\n",
      "Shape of B: (187, 3)\n",
      "done with B\n"
     ]
    }
   ],
   "source": [
    "#Decoder data is loaded\n",
    "#DECODER DATA\n",
    "#Path to the Decoder data\n",
    "inputFile = '../Data/GTRuns_decoder.csv'\n",
    "A = {}\n",
    "DecFile = open(inputFile, 'rt', encoding='utf-8-sig')\n",
    "for row in csv.reader(DecFile, delimiter = ','):\n",
    "    #Only WRuns from cam1\n",
    "    if (row[0][14] == '1'):        \n",
    "        key = row[0]\n",
    "        #duration of the WRun in ms\n",
    "        length_ms = float(row[1])*10\n",
    "        #Time is splitted    \n",
    "        split_time = row[6].split(\":\")\n",
    "        #Timestamp to seconds, disregard miliseconds\n",
    "        time_sec = int(split_time[0])*3600 + int(split_time[1])*60 + int(split_time[2])\n",
    "        A[key] = [length_ms, float(row[2]), float(row[3]), float(row[4]), time_sec, split_time[0], split_time[1]]\n",
    "print('Done with A')\n",
    "#print(A)\n",
    "\n",
    "#Load X0, Y0 and Timestamp to B\n",
    "B = np.array([[A[key][2], A[key][3], A[key][4]/4] for key in A])\n",
    "print('Done with B')\n",
    "print('Shape of B: ' + str(B.shape))"
   ]
  },
  {
   "cell_type": "code",
   "execution_count": null,
   "metadata": {},
   "outputs": [],
   "source": [
    "#DEBUGING\n",
    "#3D scatterplot\n",
    "fig = plt.figure()\n",
    "\n",
    "ax = fig.add_subplot(111, projection='3d')\n",
    "ax.scatter(B[:,0], B[:,1], B[:,2], c='b', marker = 'o')\n",
    "\n",
    "ax.set_xlabel('X coord')\n",
    "ax.set_ylabel('Y coord')\n",
    "ax.set_zlabel('Timestamp/4')\n",
    "\n",
    "plt.show()"
   ]
  },
  {
   "cell_type": "code",
   "execution_count": 5,
   "metadata": {
    "scrolled": false
   },
   "outputs": [
    {
     "name": "stdout",
     "output_type": "stream",
     "text": [
      "Done with Z\n",
      "Shape of Z: (186, 4)\n"
     ]
    }
   ],
   "source": [
    "#Generate the linkage matrix\n",
    "Z = scipy.cluster.hierarchy.linkage(B, 'ward')\n",
    "print('Done with Z')\n",
    "print('Shape of Z: ' + str(Z.shape))"
   ]
  },
  {
   "cell_type": "code",
   "execution_count": null,
   "metadata": {
    "scrolled": false
   },
   "outputs": [],
   "source": [
    "#DEBUGING\n",
    "#Calculate full dendrogram\n",
    "fig2 = plt.figure(figsize=(25, 10))\n",
    "plt.title('Hierarchical Clustering Dendrogram')\n",
    "plt.xlabel('sample index')\n",
    "plt.ylabel('distance')\n",
    "scipy.cluster.hierarchy.dendrogram(\n",
    "    Z,\n",
    "    leaf_rotation=90.,  # rotates the x axis labels\n",
    "    leaf_font_size=8.,  # font size for the x axis labels\n",
    ")\n",
    "plt.show()"
   ]
  },
  {
   "cell_type": "code",
   "execution_count": null,
   "metadata": {},
   "outputs": [],
   "source": [
    "#DEBUGING\n",
    "#Hierarchical clustering dendrogram (truncated)\n",
    "fig3 = plt.figure(figsize=(25, 10))\n",
    "plt.title('Hierarchical Clustering Dendrogram (truncated)')\n",
    "plt.xlabel('sample index or (cluster size)')\n",
    "plt.ylabel('distance')\n",
    "scipy.cluster.hierarchy.dendrogram(\n",
    "    Z,\n",
    "    truncate_mode='lastp',  # show only the last p merged clusters\n",
    "    p=20,  # show only the last p merged clusters\n",
    "    leaf_rotation=90.,\n",
    "    leaf_font_size=12.,\n",
    "    show_contracted=True,  # to get a distribution impression in truncated branches\n",
    ")\n",
    "plt.show()"
   ]
  },
  {
   "cell_type": "code",
   "execution_count": 8,
   "metadata": {},
   "outputs": [
    {
     "name": "stdout",
     "output_type": "stream",
     "text": [
      "Number of clusters: 35\n",
      "[33 35 12 10 15 17 23 14 34 20 11  4 12 32 35  2 29  9 24  8 20  7  5 13 14\n",
      " 14 24 31 27 26 18 21 21 18 25 24 30 33 24  9  9 34  6 34 35 27  5 26 23 33\n",
      "  1 32 34 13 33 18 31 12 27 26 13 32 30 12 21 12 21 22 32 23  1  1 34  5  9\n",
      " 30 34 34 34 33  8 20  9 14 28  5  2  5 29  6  1 27 29 18 29 31 11 27 29 24\n",
      " 23 34 32 30 28 32 26 35 32 28 21 23 31 21 30  1  9 23 28  9 15 25 29 33 29\n",
      " 27 21 23  2 32 13 17 14 20 20 24 20 32  9 21 13 12 18 26 20  1 33 29 21 11\n",
      " 12 31 35 32  1 16  8 31  2 35 32 12 20  1 25 18 33 18 30  3 33 14 31 17  2\n",
      " 27 17 20 30 21 27 20 30 19 20 17 20]\n"
     ]
    }
   ],
   "source": [
    "#Clustering with a maximum euclidian distance in space of 25 units\n",
    "max_d = 25\n",
    "clusters = scipy.cluster.hierarchy.fcluster(Z, max_d, criterion='distance')\n",
    "print('Number of clusters: '+ str(max(clusters)))\n",
    "print(clusters)"
   ]
  },
  {
   "cell_type": "code",
   "execution_count": null,
   "metadata": {},
   "outputs": [],
   "source": [
    "#DEBUGING\n",
    "fig4 = plt.figure()\n",
    "bx = fig4.add_subplot(111, projection='3d')\n",
    "# plot points with cluster dependent colors\n",
    "bx.scatter(B[:,0], B[:,1], B[:,2], c=clusters, cmap='prism')\n",
    "bx.set_xlabel('X coord')\n",
    "bx.set_ylabel('Y coord')\n",
    "bx.set_zlabel('Timestamp/4')\n",
    "plt.show()"
   ]
  },
  {
   "cell_type": "code",
   "execution_count": 14,
   "metadata": {},
   "outputs": [],
   "source": [
    "#Keys of WRuns that were clustered together\n",
    "C={}\n",
    "for count, key in enumerate(A):\n",
    "    if (str(clusters[count]) not in C):\n",
    "        C[str(clusters[count])] = [key]\n",
    "    else:\n",
    "        C[str(clusters[count])].append(key)"
   ]
  },
  {
   "cell_type": "code",
   "execution_count": null,
   "metadata": {
    "collapsed": true
   },
   "outputs": [],
   "source": [
    "#DEBUGING\n",
    "################# Displays WR's as videos ##############\n",
    "#To skip to the next dance press \"Y\"\n",
    "#To close the window press \"Esc\"\n",
    "#Path to the Waggle runs\n",
    "path = '../Data/GTRuns/'\n",
    "\n",
    "#control variables initialized\n",
    "cluster = 0\n",
    "next = 0\n",
    "first_frame = True\n",
    "\n",
    "while (cluster < len(C) and next != -1):\n",
    "    cluster_key = str(cluster + 1)\n",
    "    counter = 0\n",
    "    while (counter < len(C[cluster_key]) and next != -1):    \n",
    "        key = C[cluster_key][counter]\n",
    "        pathWR = (path + key + '/')\n",
    "        #vp object is initialized\n",
    "        vp = VidPlayer()\n",
    "        #waggle run images\n",
    "        vp.set_vid_path(pathWR + 'image_%03d.png')\n",
    "        capture = vp.get_vid_capture()\n",
    "        #The video is played in a loop\n",
    "        while(vp.get_vid_running()):\n",
    "            ret, image = capture.read()\n",
    "            if (ret == True):\n",
    "                #image is resized\n",
    "                image = cv2.resize(image, None, fx = 8, fy = 8, interpolation = cv2.INTER_CUBIC)\n",
    "                #Info is displayed in the video window\n",
    "                #Path is displayed\n",
    "                cv2.putText(image,key,(10,20), cv2.FONT_HERSHEY_SIMPLEX, .5,(255,255,255),1,cv2.LINE_AA)\n",
    "                #Counter is displayed\n",
    "                cv2.putText(image,'WR %2d' %int(counter + 1),(350,16), cv2.FONT_HERSHEY_SIMPLEX, .25,(255,255,255),1,cv2.LINE_AA)\n",
    "                cv2.putText(image,'from %2d' %int(len(C[cluster_key])),(345,26), cv2.FONT_HERSHEY_SIMPLEX, .25,(255,255,255),1,cv2.LINE_AA)\n",
    "                #Cluster number is displayed\n",
    "                cv2.putText(image,'Cluster ' + cluster_key,(300,16), cv2.FONT_HERSHEY_SIMPLEX, .25,(255,255,255),1,cv2.LINE_AA)            \n",
    "                #Angles are displayed            \n",
    "                cv2.putText(image,'X0         = %5.4f ' %A[key][2],(10,342), cv2.FONT_HERSHEY_SIMPLEX, .5,(255,255,255),1,cv2.LINE_AA)\n",
    "                cv2.putText(image,'Y0         = %5.4f ' %A[key][3],(10,360), cv2.FONT_HERSHEY_SIMPLEX, .5,(255,255,255),1,cv2.LINE_AA)\n",
    "                cv2.putText(image,'Timestamp  = %5d   ' %A[key][4],(10,378), cv2.FONT_HERSHEY_SIMPLEX, .5,(255,255,255),1,cv2.LINE_AA)\n",
    "                cv2.putText(image,'Dec_angle  = %5.4f' %float(A[key][1]*radi),(10,396), cv2.FONT_HERSHEY_SIMPLEX, .5,(255,255,255),1,cv2.LINE_AA)            \n",
    "                cv2.imshow(\"Waggle Run\", image)\n",
    "                #Call to video player controls\n",
    "                vp.vid_player_controlls()\n",
    "            else:\n",
    "                capture = vp.vid_restart()            \n",
    "        if (vp.get_vid_direction() == 'right'):\n",
    "            counter += 1            \n",
    "        elif(vp.get_vid_direction() == 'left')  and (counter > 0):\n",
    "            counter -= 1            \n",
    "        elif(vp.get_vid_direction() == 'up'):\n",
    "            cluster += 1\n",
    "            break\n",
    "        elif(vp.get_vid_direction() == 'down') and (cluster > 0):\n",
    "            cluster -= 1\n",
    "            break\n",
    "        first_frame = True\n",
    "        #cluster += 1\n",
    "        next = vp.get_vid_dance()\n",
    "    \n",
    "    #Window is detroyed\n",
    "capture.release()\n",
    "cv2.destroyAllWindows()"
   ]
  },
  {
   "cell_type": "code",
   "execution_count": 16,
   "metadata": {},
   "outputs": [],
   "source": [
    "#Angles from WRuns that were clustered together\n",
    "D={}\n",
    "for count, key in enumerate(A):\n",
    "    if (str(clusters[count]) not in D):\n",
    "        D[str(clusters[count])] = [A[key][1]]\n",
    "    else:\n",
    "        D[str(clusters[count])].append(A[key][1])"
   ]
  },
  {
   "cell_type": "code",
   "execution_count": 17,
   "metadata": {
    "collapsed": true
   },
   "outputs": [],
   "source": [
    "def clamp(n, minn, maxn):\n",
    "    return max(min(maxn, n), minn)\n",
    "\n",
    "def random_subset(n,n_data):\n",
    "    #data array indexes\n",
    "    all_idxs = np.arange( n_data )\n",
    "    #shuffles the indexes\n",
    "    np.random.shuffle(all_idxs)\n",
    "    #the first n are returned\n",
    "    idxs1 = all_idxs[:n]    \n",
    "    return idxs1\n",
    "\n",
    "def get_error(test_points, maybeAngle):\n",
    "    diffAngle = []\n",
    "    for count, angle1 in enumerate(test_points):\n",
    "        #Angles are converted to vectors\n",
    "        vTest = [math.cos(angle1),math.sin(angle1)]\n",
    "        vMaybe = [math.cos(maybeAngle),math.sin(maybeAngle)]    \n",
    "        #Difference is calculated using dot product\n",
    "        escProd = np.dot(vTest,vMaybe)\n",
    "        #limits the escProd to the range [-1,1]\n",
    "        escProd = clamp(escProd, -1, 1)\n",
    "        #\n",
    "        diffAngle.append(math.acos(escProd))\n",
    "    return np.array(diffAngle)\n",
    "\n",
    "#Fit model to data using the RANSAC algorithm\n",
    "\"\"\"\n",
    "Given:\n",
    "    data - a set of observed data points    \n",
    "    n - the minimum number of data values required to fit the model\n",
    "    k - the maximum number of iterations allowed in the algorithm\n",
    "    t - a threshold value for determining when a data point fits a model\n",
    "    d - the number of close data values required to assert that a model fits well to data\n",
    "Return:\n",
    "    bestfit - model parameters which best fit the data (or nil if no good model is found)\n",
    "\"\"\"\n",
    "def ransac_WDD(data, n, k, t, d):\n",
    "    it = 0\n",
    "    bestfit = None\n",
    "    besterr = np.inf\n",
    "    best_inlier_idxs = None\n",
    "    while it < k:\n",
    "        all_idxs = np.arange(data.shape[0])\n",
    "        #generates a random subset\n",
    "        maybe_idxs = random_subset(n,data.shape[0])\n",
    "        maybeinliers = data[maybe_idxs]\n",
    "        \n",
    "        maybeAngle = stats.circmean(maybeinliers, high=2*np.pi, low=0)\n",
    "        \n",
    "        test_err = get_error(data, maybeAngle)\n",
    "        \n",
    "        inl_idxs = all_idxs[test_err < t] # select indices of rows with accepted points\n",
    "        inliers = data[inl_idxs]\n",
    "        \n",
    "        if len(inliers) > d:\n",
    "            betterdata = inliers\n",
    "            bettermodel = maybeAngle\n",
    "            better_errs = test_err\n",
    "            thiserr = np.mean( better_errs )\n",
    "            if thiserr < besterr:\n",
    "                bestfit = bettermodel\n",
    "                besterr = thiserr\n",
    "                best_inlier_idxs = inl_idxs\n",
    "        it+=1    \n",
    "    else:\n",
    "        return bestfit, best_inlier_idxs    "
   ]
  },
  {
   "cell_type": "code",
   "execution_count": 18,
   "metadata": {
    "scrolled": false
   },
   "outputs": [
    {
     "data": {
      "text/plain": [
       "{'1': (1.0515902620194884, array([0, 1, 2, 3, 4, 5, 7])),\n",
       " '12': (0.17224216585136562, array([0, 1, 2, 3, 4, 5, 6, 7])),\n",
       " '13': (0.14564925146820268, array([0, 1, 2, 4])),\n",
       " '14': (0.122073335839553, array([0, 1, 2, 4, 5])),\n",
       " '17': (0.34365902708616064, array([0, 1, 2, 3, 4])),\n",
       " '18': (None, None),\n",
       " '2': (5.8942690482049676, array([0, 1, 3, 4])),\n",
       " '20': (0.5342980303099979,\n",
       "  array([ 0,  1,  2,  3,  4,  5,  6,  8,  9, 10, 11])),\n",
       " '21': (0.1995821036186313, array([0, 1, 2, 3, 4, 5, 6, 8, 9])),\n",
       " '23': (0.28873064685916133, array([0, 1, 2, 3, 4, 5, 6])),\n",
       " '24': (None, None),\n",
       " '26': (5.9731504205327939, array([0, 1, 2, 4])),\n",
       " '27': (4.2655842827231689, array([0, 1, 2, 3, 4, 5, 6, 7])),\n",
       " '28': (4.5705646798578528, array([0, 1, 2, 3])),\n",
       " '29': (0.25671972559400486, array([0, 1, 2, 3, 4, 5, 6, 7])),\n",
       " '30': (0.4348840256205927, array([0, 1, 2, 3, 4, 5, 7])),\n",
       " '31': (4.0577117795043733, array([0, 1, 4, 5, 6])),\n",
       " '32': (4.1994501423467936,\n",
       "  array([ 0,  1,  2,  3,  4,  5,  6,  7,  8,  9, 10])),\n",
       " '33': (0.2958461615268162, array([0, 1, 3, 4, 5, 6, 8])),\n",
       " '34': (0.2994210031394765, array([0, 1, 2, 3, 4, 5, 6, 7, 8])),\n",
       " '35': (3.8637576670799731, array([0, 1, 2, 3, 4])),\n",
       " '5': (4.4530464355854695, array([0, 1, 2, 4])),\n",
       " '9': (0.25568903784211072, array([0, 1, 2, 3, 4, 5, 6, 7]))}"
      ]
     },
     "execution_count": 18,
     "metadata": {},
     "output_type": "execute_result"
    }
   ],
   "source": [
    "n = 3\n",
    "t = np.pi/6\n",
    "\n",
    "ransacAng = {}\n",
    "\n",
    "for key in D:\n",
    "    if len(D[key]) > 3:        \n",
    "        data = np.array(D[key])\n",
    "        k = 3*len(D[key])\n",
    "        d = 0.7*len(D[key])\n",
    "        #print('cluster ' + str(key) + ' with ' + str(len(D[key])) + ' elements')\n",
    "        #print(D[key])\n",
    "        #print(ransac_WDD(data, n, k, t, d))\n",
    "        ransacAng[key]  = ransac_WDD(data, n, k, t, d)\n",
    "ransacAng"
   ]
  },
  {
   "cell_type": "code",
   "execution_count": null,
   "metadata": {
    "scrolled": false
   },
   "outputs": [],
   "source": [
    "#Ploting orientation of WRuns orientations in a cluster\n",
    "data = D['24']\n",
    "print(data)\n",
    "\n",
    "vec = np.array([[0 , 0, math.cos(angle), math.sin(angle)] for angle in data])\n",
    "X, Y, U, V = zip(*vec)\n",
    "fig5 = plt.figure()\n",
    "\n",
    "cx = plt.gca()\n",
    "cx.quiver(X, Y, U, V, angles='xy', scale_units='xy', scale=1)\n",
    "cx.set_xlim([-1.5, 1.5])\n",
    "cx.set_ylim([-1.5, 1.5])\n",
    "plt.draw()\n",
    "plt.show()"
   ]
  },
  {
   "cell_type": "code",
   "execution_count": null,
   "metadata": {
    "collapsed": true
   },
   "outputs": [],
   "source": [
    "#Sandbox\n",
    "for key in C:\n",
    "    print(key)\n",
    "    for i in C[key]:\n",
    "        print(i)\n",
    "        print(A[i])"
   ]
  }
 ],
 "metadata": {
  "kernelspec": {
   "display_name": "Python 3",
   "language": "python",
   "name": "python3"
  },
  "language_info": {
   "codemirror_mode": {
    "name": "ipython",
    "version": 3
   },
   "file_extension": ".py",
   "mimetype": "text/x-python",
   "name": "python",
   "nbconvert_exporter": "python",
   "pygments_lexer": "ipython3",
   "version": "3.5.2"
  }
 },
 "nbformat": 4,
 "nbformat_minor": 1
}
