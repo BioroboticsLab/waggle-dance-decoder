{
 "cells": [
  {
   "cell_type": "code",
   "execution_count": 1,
   "metadata": {
    "collapsed": true
   },
   "outputs": [],
   "source": [
    "#To display Waggle Run frames as a video\n",
    "#To skip to the next dance press \"Y\"\n",
    "#To close the window press \"Esc\"\n",
    "\n",
    "#IMPORTANT!!!!!\n",
    "#Make yourself sure that the path to the waggle run images\n",
    "#and the decoder data correspond to the same waggle runs\n",
    "#otherwise no video will be displayed\n",
    "\n",
    "#Fernando Wario\n",
    "#June 2017\n",
    "\n",
    "import os\n",
    "import cv2\n",
    "import csv\n",
    "import sys\n",
    "import numpy as np\n",
    "\n",
    "sys.path.append('../functions/')\n",
    "from VidPlayer import VidPlayer\n",
    "\n",
    "#Radian\n",
    "radi = 180/np.pi"
   ]
  },
  {
   "cell_type": "code",
   "execution_count": 3,
   "metadata": {},
   "outputs": [
    {
     "name": "stdout",
     "output_type": "stream",
     "text": [
      "../Data/GTRuns/key/ is not a valid directory!\n"
     ]
    }
   ],
   "source": [
    "################# Displays the WR as a video ##############\n",
    "#To skip to the next dance press \"Y\"\n",
    "#To close the window press \"Esc\"\n",
    "#Path to the Waggle run images\n",
    "path = '../Data/GTRuns/'\n",
    "#path = 'Data/WDTestRaw/'\n",
    "#Path to the decoder data\n",
    "AnglesData = '../Data/GTRuns_decoder.csv'\n",
    "\n",
    "#The results are loaded to an array\n",
    "csvfile = open(AnglesData, 'rt', encoding='utf-8-sig')\n",
    "csvFileArray = []\n",
    "for row in csv.reader(csvfile, delimiter = ','):\n",
    "    csvFileArray.append(row)\n",
    "length = len(csvFileArray)\n",
    "\n",
    "#control variables initialized\n",
    "counter = 0\n",
    "next = 0\n",
    "first_frame = True\n",
    "\n",
    "while (counter < length and next != -1):\n",
    "    pathWR = (path + csvFileArray[counter][0] + '/')\n",
    "    if (os.path.isdir(pathWR)):\n",
    "        #vp object is initialized\n",
    "        vp = VidPlayer()\n",
    "        #waggle run images\n",
    "        vp.set_vid_path(pathWR + 'image_%03d.png')\n",
    "        capture = vp.get_vid_capture()\n",
    "        #The video is played in a loop\n",
    "        while(vp.get_vid_running()):\n",
    "            ret, image = capture.read()\n",
    "            if (ret == True):\n",
    "                #image is resized\n",
    "                image = cv2.resize(image, None, fx = 8, fy = 8, interpolation = cv2.INTER_CUBIC)\n",
    "                #Info is displayed in the video window\n",
    "                #Path is displayed\n",
    "                cv2.putText(image,pathWR,(10,20), cv2.FONT_HERSHEY_SIMPLEX, .5,(255,255,255),1,cv2.LINE_AA)\n",
    "                #Counter is displayed\n",
    "                cv2.putText(image,'WR ' + str(counter + 1),(366,16), cv2.FONT_HERSHEY_SIMPLEX, .25,(255,255,255),1,cv2.LINE_AA)\n",
    "                #Angle is displayed            \n",
    "                cv2.putText(image,'Angle = %5.4f' %(float(csvFileArray[counter][2])*radi),(10,390), cv2.FONT_HERSHEY_SIMPLEX, .5,(255,255,255),1,cv2.LINE_AA)            \n",
    "                cv2.imshow(\"Waggle Run\", image)\n",
    "                #Call to video player controls\n",
    "                vp.vid_player_controlls()\n",
    "            else:\n",
    "                capture = vp.vid_restart()\n",
    "        first_frame = True\n",
    "        next = vp.get_vid_dance()\n",
    "        counter += 1\n",
    "    else:\n",
    "        print(pathWR + ' is not a valid directory!')\n",
    "        counter += 1\n",
    "        \n",
    "#Window is detroyed\n",
    "capture.release()\n",
    "cv2.destroyAllWindows()   "
   ]
  },
  {
   "cell_type": "code",
   "execution_count": null,
   "metadata": {
    "collapsed": true
   },
   "outputs": [],
   "source": []
  }
 ],
 "metadata": {
  "kernelspec": {
   "display_name": "Python 3",
   "language": "python",
   "name": "python3"
  },
  "language_info": {
   "codemirror_mode": {
    "name": "ipython",
    "version": 3
   },
   "file_extension": ".py",
   "mimetype": "text/x-python",
   "name": "python",
   "nbconvert_exporter": "python",
   "pygments_lexer": "ipython3",
   "version": "3.5.2"
  }
 },
 "nbformat": 4,
 "nbformat_minor": 1
}
